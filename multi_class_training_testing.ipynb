{
 "cells": [
  {
   "cell_type": "code",
   "execution_count": 1,
   "metadata": {
    "_cell_guid": "b1076dfc-b9ad-4769-8c92-a6c4dae69d19",
    "_uuid": "8f2839f25d086af736a60e9eeb907d3b93b6e0e5",
    "execution": {
     "iopub.execute_input": "2020-11-30T22:53:05.032611Z",
     "iopub.status.busy": "2020-11-30T22:53:05.031877Z",
     "iopub.status.idle": "2020-11-30T22:53:10.447851Z",
     "shell.execute_reply": "2020-11-30T22:53:10.448406Z"
    },
    "papermill": {
     "duration": 5.437969,
     "end_time": "2020-11-30T22:53:10.448591",
     "exception": false,
     "start_time": "2020-11-30T22:53:05.010622",
     "status": "completed"
    },
    "tags": []
   },
   "outputs": [],
   "source": [
    "#cucumber\n",
    "import numpy as np \n",
    "import pandas as pd\n",
    "import os\n",
    "import cv2\n",
    "import matplotlib.pyplot as plt\n",
    "from tqdm import tqdm\n",
    "from random import shuffle\n",
    "from keras.utils  import to_categorical\n",
    "import pickle"
   ]
  },
  {
   "cell_type": "code",
   "execution_count": 2,
   "metadata": {
    "execution": {
     "iopub.execute_input": "2020-11-30T22:53:10.497479Z",
     "iopub.status.busy": "2020-11-30T22:53:10.492150Z",
     "iopub.status.idle": "2020-11-30T22:53:10.500325Z",
     "shell.execute_reply": "2020-11-30T22:53:10.499819Z"
    },
    "papermill": {
     "duration": 0.036218,
     "end_time": "2020-11-30T22:53:10.500417",
     "exception": false,
     "start_time": "2020-11-30T22:53:10.464199",
     "status": "completed"
    },
    "tags": []
   },
   "outputs": [],
   "source": [
    "\n",
    "import math\n",
    "import random\n",
    "import tempfile\n",
    "\n",
    "def _copy_symlinks(files, src_dir, dst_dir):\n",
    "    for i in files:\n",
    "        base_file_name = os.path.basename(i)\n",
    "        src_file_path = os.path.join(src_dir, base_file_name)\n",
    "        dst_file_path = os.path.join(dst_dir, base_file_name)\n",
    "        src_file_path = os.path.abspath(src_file_path)\n",
    "        dst_file_path = os.path.abspath(dst_file_path)\n",
    "        os.symlink(src_file_path, dst_file_path)\n",
    "\n",
    "def train_valid_split(original_dir, validation_split=0.1, seed=None):\n",
    "    if seed is not None:\n",
    "        random.seed(seed)    \n",
    "    if not os.path.isdir(original_dir):\n",
    "        raise NotADirectoryError\n",
    "    tmp_dir = tempfile.TemporaryDirectory()\n",
    "    train_dir = os.path.join(tmp_dir.name, 'train')\n",
    "    valid_dir = os.path.join(tmp_dir.name, 'validation')\n",
    "\n",
    "    # make subdirs in train tmp and valid tmp\n",
    "    for root, dirs, files in os.walk(original_dir):\n",
    "        if root == original_dir:\n",
    "            continue\n",
    "        sub_dir_name = os.path.basename(root)\n",
    "        train_sub_dir_path = os.path.join(train_dir, sub_dir_name)\n",
    "        valid_sub_dir_path = os.path.join(valid_dir, sub_dir_name)\n",
    "        if not os.path.exists(train_sub_dir_path):\n",
    "            os.makedirs(train_sub_dir_path)\n",
    "        if not os.path.exists(valid_sub_dir_path):\n",
    "            os.makedirs(valid_sub_dir_path)\n",
    "\n",
    "    # distribute symlinks to train_tmp, test_tmp\n",
    "    for root, dirs, files in os.walk(original_dir):\n",
    "        if root == original_dir:\n",
    "            continue\n",
    "        sub_dir_name = os.path.basename(root)\n",
    "        train_sub_dir_path = os.path.join(train_dir, sub_dir_name)\n",
    "        valid_sub_dir_path = os.path.join(valid_dir, sub_dir_name)\n",
    "        files = [os.path.join(root, f) for f in files]\n",
    "        random.shuffle(files)\n",
    "        valid_idx = math.ceil(validation_split * len(files))\n",
    "        train_files = files[valid_idx:]\n",
    "        valid_files = files[:valid_idx]\n",
    "        _copy_symlinks(train_files, root, train_sub_dir_path)\n",
    "        _copy_symlinks(valid_files, root, valid_sub_dir_path)\n",
    "    return tmp_dir, train_dir, valid_dir"
   ]
  },
  {
   "cell_type": "code",
   "execution_count": 3,
   "metadata": {
    "execution": {
     "iopub.execute_input": "2020-11-30T22:53:10.534818Z",
     "iopub.status.busy": "2020-11-30T22:53:10.534229Z",
     "iopub.status.idle": "2020-11-30T22:53:11.327249Z",
     "shell.execute_reply": "2020-11-30T22:53:11.326229Z"
    },
    "papermill": {
     "duration": 0.812255,
     "end_time": "2020-11-30T22:53:11.327371",
     "exception": false,
     "start_time": "2020-11-30T22:53:10.515116",
     "status": "completed"
    },
    "tags": []
   },
   "outputs": [],
   "source": [
    "from skimage.io import imread\n",
    "from skimage import exposure, color\n",
    "from skimage.transform import resize\n",
    "# Adaptive histogram equalization\n",
    "def AHE(img):\n",
    "    img_adapteq = exposure.equalize_adapthist(img, clip_limit=0.03)\n",
    "    return img_adapteq"
   ]
  },
  {
   "cell_type": "code",
   "execution_count": 4,
   "metadata": {
    "execution": {
     "iopub.execute_input": "2020-11-30T22:53:11.371886Z",
     "iopub.status.busy": "2020-11-30T22:53:11.365079Z",
     "iopub.status.idle": "2020-11-30T22:53:11.374508Z",
     "shell.execute_reply": "2020-11-30T22:53:11.374035Z"
    },
    "papermill": {
     "duration": 0.032113,
     "end_time": "2020-11-30T22:53:11.374609",
     "exception": false,
     "start_time": "2020-11-30T22:53:11.342496",
     "status": "completed"
    },
    "tags": []
   },
   "outputs": [],
   "source": [
    "def get_random_eraser(p=0.5, s_l=0.02, s_h=0.4, r_1=0.3, r_2=1/0.3, v_l=0, v_h=255, pixel_level=False):\n",
    "    def eraser(input_img):\n",
    "        \n",
    "        if input_img.ndim == 3:\n",
    "            img_h, img_w, img_c = input_img.shape\n",
    "        elif input_img.ndim == 2:\n",
    "            img_h, img_w = input_img.shape\n",
    "\n",
    "        p_1 = np.random.rand()\n",
    "\n",
    "        if p_1 > p:\n",
    "            return input_img\n",
    "\n",
    "        while True:\n",
    "            s = np.random.uniform(s_l, s_h) * img_h * img_w\n",
    "            r = np.random.uniform(r_1, r_2)\n",
    "            w = int(np.sqrt(s / r))\n",
    "            h = int(np.sqrt(s * r))\n",
    "            left = np.random.randint(0, img_w)\n",
    "            top = np.random.randint(0, img_h)\n",
    "\n",
    "            if left + w <= img_w and top + h <= img_h:\n",
    "                break\n",
    "\n",
    "        if pixel_level:\n",
    "            if input_img.ndim == 3:\n",
    "                c = np.random.uniform(v_l, v_h, (h, w, img_c))\n",
    "            if input_img.ndim == 2:\n",
    "                c = np.random.uniform(v_l, v_h, (h, w))\n",
    "        else:\n",
    "            c = np.random.uniform(v_l, v_h)\n",
    "\n",
    "        input_img[top:top + h, left:left + w] = c\n",
    "\n",
    "        return input_img\n",
    "    \n",
    "\n",
    "    return eraser"
   ]
  },
  {
   "cell_type": "code",
   "execution_count": 5,
   "metadata": {
    "execution": {
     "iopub.execute_input": "2020-11-30T22:53:11.416462Z",
     "iopub.status.busy": "2020-11-30T22:53:11.415622Z",
     "iopub.status.idle": "2020-11-30T22:53:11.699393Z",
     "shell.execute_reply": "2020-11-30T22:53:11.698649Z"
    },
    "papermill": {
     "duration": 0.308234,
     "end_time": "2020-11-30T22:53:11.699549",
     "exception": false,
     "start_time": "2020-11-30T22:53:11.391315",
     "status": "completed"
    },
    "tags": []
   },
   "outputs": [
    {
     "name": "stdout",
     "output_type": "stream",
     "text": [
      "Found 880 images belonging to 3 classes.\n",
      "Found 99 images belonging to 3 classes.\n"
     ]
    }
   ],
   "source": [
    "from tensorflow.keras.preprocessing.image import ImageDataGenerator\n",
    "# import split_utils\n",
    "# from random_eraser import get_random_eraser  # added\n",
    "original_dir = '../input/cucumber-multi/Cucumber/train'\n",
    "batch_size = 32\n",
    "validation_split = 0.1\n",
    "\n",
    "base_dir, train_dir, val_dir = train_valid_split(original_dir, validation_split, seed=1)\n",
    "\n",
    "\n",
    "train_datagen = ImageDataGenerator(\n",
    "   rescale = (1./255),\n",
    "    rotation_range=90,\n",
    "    width_shift_range=.2, \n",
    "    height_shift_range=.2,\n",
    "    brightness_range=(0.9,1.5),\n",
    "    zoom_range = 0.3,\n",
    "    horizontal_flip=True,\n",
    "    preprocessing_function=get_random_eraser(v_l=0, v_h=1))\n",
    "\n",
    "test_datagen = ImageDataGenerator(rescale = (1./255))\n",
    "validation_datagen = ImageDataGenerator(rescale = (1./255))\n",
    "\n",
    "train_generator = train_datagen.flow_from_directory(\n",
    "    train_dir,\n",
    "    target_size=(224, 224),\n",
    "    batch_size= 32,\n",
    "    class_mode='categorical',\n",
    "    shuffle=True)\n",
    "\n",
    "validation_generator = validation_datagen.flow_from_directory(\n",
    "    val_dir,\n",
    "    target_size=(224, 224),\n",
    "    batch_size= 32,\n",
    "    class_mode='categorical',\n",
    "    shuffle=True)\n",
    "# test_generator = test_datagen.flow_from_directory(\n",
    "#     '../input/apples/Apples/test',\n",
    "#     target_size=(224, 224),\n",
    "#     batch_size= 1,\n",
    "#     class_mode='binary',\n",
    "#     shuffle='false')"
   ]
  },
  {
   "cell_type": "code",
   "execution_count": 6,
   "metadata": {
    "execution": {
     "iopub.execute_input": "2020-11-30T22:53:11.758827Z",
     "iopub.status.busy": "2020-11-30T22:53:11.757900Z",
     "iopub.status.idle": "2020-11-30T22:53:11.761820Z",
     "shell.execute_reply": "2020-11-30T22:53:11.762466Z"
    },
    "papermill": {
     "duration": 0.037059,
     "end_time": "2020-11-30T22:53:11.762657",
     "exception": false,
     "start_time": "2020-11-30T22:53:11.725598",
     "status": "completed"
    },
    "tags": []
   },
   "outputs": [],
   "source": [
    "import keras \n",
    "from keras.layers import Dense,Dropout, Conv2D,MaxPooling2D , Activation, Flatten\n",
    "from keras.models import Sequential\n",
    "from tensorflow.keras.layers import *"
   ]
  },
  {
   "cell_type": "code",
   "execution_count": 7,
   "metadata": {
    "execution": {
     "iopub.execute_input": "2020-11-30T22:53:11.817113Z",
     "iopub.status.busy": "2020-11-30T22:53:11.816250Z",
     "iopub.status.idle": "2020-11-30T22:53:14.668914Z",
     "shell.execute_reply": "2020-11-30T22:53:14.669543Z"
    },
    "papermill": {
     "duration": 2.885194,
     "end_time": "2020-11-30T22:53:14.669679",
     "exception": false,
     "start_time": "2020-11-30T22:53:11.784485",
     "status": "completed"
    },
    "tags": []
   },
   "outputs": [],
   "source": [
    "model = Sequential()\n",
    "\n",
    "model.add(Conv2D(input_shape=(224,224,3),filters=64,kernel_size=(3,3),padding=\"same\", activation=\"relu\"))\n",
    "model.add(Conv2D(filters=64,kernel_size=(3,3),padding=\"same\", activation=\"relu\"))\n",
    "\n",
    "model.add(MaxPool2D(pool_size=(2,2),strides=(2,2)))\n",
    "\n",
    "model.add(Conv2D(filters=128, kernel_size=(3,3),padding=\"same\", activation=\"relu\"))\n",
    "model.add(Conv2D(filters=128, kernel_size=(3,3),padding=\"same\", activation=\"relu\"))\n",
    "\n",
    "model.add(MaxPool2D(pool_size=(2,2),strides=(2,2)))\n",
    "\n",
    "model.add(Conv2D(filters=256, kernel_size=(3,3),padding=\"same\", activation=\"relu\"))\n",
    "model.add(Conv2D(filters=256, kernel_size=(3,3),padding=\"same\", activation=\"relu\"))\n",
    "model.add(Conv2D(filters=256, kernel_size=(3,3),padding=\"same\", activation=\"relu\"))\n",
    "\n",
    "model.add(MaxPool2D(pool_size=(2,2),strides=(2,2)))\n",
    "\n",
    "model.add(Conv2D(filters=512, kernel_size=(3,3),padding=\"same\", activation=\"relu\"))\n",
    "model.add(Conv2D(filters=512, kernel_size=(3,3),padding=\"same\", activation=\"relu\"))\n",
    "model.add(Conv2D(filters=512, kernel_size=(3,3),padding=\"same\", activation=\"relu\"))\n",
    "\n",
    "model.add(MaxPooling2D(pool_size=(2,2),strides=(2,2)))\n",
    "\n",
    "model.add(Conv2D(filters=512, kernel_size=(3,3),padding=\"same\", activation=\"relu\"))\n",
    "model.add(Conv2D(filters=512, kernel_size=(3,3),padding=\"same\", activation=\"relu\"))\n",
    "model.add(Conv2D(filters=512, kernel_size=(3,3),padding=\"same\", activation=\"relu\"))\n",
    "\n",
    "model.add(MaxPool2D(pool_size=(2,2),strides=(2,2)))\n",
    "\n",
    "model.add(Flatten())\n",
    "\n",
    "model.add(Dense(units=4096,activation=\"relu\"))\n",
    "model.add(Dense(units=4096,activation=\"relu\"))\n",
    "\n",
    "model.add(Dense(units=3, activation=\"softmax\"))\n",
    "\n"
   ]
  },
  {
   "cell_type": "code",
   "execution_count": 8,
   "metadata": {
    "execution": {
     "iopub.execute_input": "2020-11-30T22:53:14.715992Z",
     "iopub.status.busy": "2020-11-30T22:53:14.715322Z",
     "iopub.status.idle": "2020-11-30T22:53:14.739642Z",
     "shell.execute_reply": "2020-11-30T22:53:14.738865Z"
    },
    "papermill": {
     "duration": 0.051393,
     "end_time": "2020-11-30T22:53:14.739794",
     "exception": false,
     "start_time": "2020-11-30T22:53:14.688401",
     "status": "completed"
    },
    "tags": []
   },
   "outputs": [
    {
     "name": "stdout",
     "output_type": "stream",
     "text": [
      "Model: \"sequential\"\n",
      "_________________________________________________________________\n",
      "Layer (type)                 Output Shape              Param #   \n",
      "=================================================================\n",
      "conv2d (Conv2D)              (None, 224, 224, 64)      1792      \n",
      "_________________________________________________________________\n",
      "conv2d_1 (Conv2D)            (None, 224, 224, 64)      36928     \n",
      "_________________________________________________________________\n",
      "max_pooling2d (MaxPooling2D) (None, 112, 112, 64)      0         \n",
      "_________________________________________________________________\n",
      "conv2d_2 (Conv2D)            (None, 112, 112, 128)     73856     \n",
      "_________________________________________________________________\n",
      "conv2d_3 (Conv2D)            (None, 112, 112, 128)     147584    \n",
      "_________________________________________________________________\n",
      "max_pooling2d_1 (MaxPooling2 (None, 56, 56, 128)       0         \n",
      "_________________________________________________________________\n",
      "conv2d_4 (Conv2D)            (None, 56, 56, 256)       295168    \n",
      "_________________________________________________________________\n",
      "conv2d_5 (Conv2D)            (None, 56, 56, 256)       590080    \n",
      "_________________________________________________________________\n",
      "conv2d_6 (Conv2D)            (None, 56, 56, 256)       590080    \n",
      "_________________________________________________________________\n",
      "max_pooling2d_2 (MaxPooling2 (None, 28, 28, 256)       0         \n",
      "_________________________________________________________________\n",
      "conv2d_7 (Conv2D)            (None, 28, 28, 512)       1180160   \n",
      "_________________________________________________________________\n",
      "conv2d_8 (Conv2D)            (None, 28, 28, 512)       2359808   \n",
      "_________________________________________________________________\n",
      "conv2d_9 (Conv2D)            (None, 28, 28, 512)       2359808   \n",
      "_________________________________________________________________\n",
      "max_pooling2d_3 (MaxPooling2 (None, 14, 14, 512)       0         \n",
      "_________________________________________________________________\n",
      "conv2d_10 (Conv2D)           (None, 14, 14, 512)       2359808   \n",
      "_________________________________________________________________\n",
      "conv2d_11 (Conv2D)           (None, 14, 14, 512)       2359808   \n",
      "_________________________________________________________________\n",
      "conv2d_12 (Conv2D)           (None, 14, 14, 512)       2359808   \n",
      "_________________________________________________________________\n",
      "max_pooling2d_4 (MaxPooling2 (None, 7, 7, 512)         0         \n",
      "_________________________________________________________________\n",
      "flatten (Flatten)            (None, 25088)             0         \n",
      "_________________________________________________________________\n",
      "dense (Dense)                (None, 4096)              102764544 \n",
      "_________________________________________________________________\n",
      "dense_1 (Dense)              (None, 4096)              16781312  \n",
      "_________________________________________________________________\n",
      "dense_2 (Dense)              (None, 3)                 12291     \n",
      "=================================================================\n",
      "Total params: 134,272,835\n",
      "Trainable params: 134,272,835\n",
      "Non-trainable params: 0\n",
      "_________________________________________________________________\n"
     ]
    }
   ],
   "source": [
    "model.compile(optimizer= keras.optimizers.Adam(lr=0.00001), loss='categorical_crossentropy', metrics=['accuracy'])\n",
    "model.summary()"
   ]
  },
  {
   "cell_type": "code",
   "execution_count": 9,
   "metadata": {
    "execution": {
     "iopub.execute_input": "2020-11-30T22:53:14.777264Z",
     "iopub.status.busy": "2020-11-30T22:53:14.776654Z",
     "iopub.status.idle": "2020-11-30T22:53:14.780568Z",
     "shell.execute_reply": "2020-11-30T22:53:14.780066Z"
    },
    "papermill": {
     "duration": 0.023357,
     "end_time": "2020-11-30T22:53:14.780680",
     "exception": false,
     "start_time": "2020-11-30T22:53:14.757323",
     "status": "completed"
    },
    "tags": []
   },
   "outputs": [],
   "source": [
    "# model.save('./rottenvsfresh_apple.h5')"
   ]
  },
  {
   "cell_type": "code",
   "execution_count": 10,
   "metadata": {
    "execution": {
     "iopub.execute_input": "2020-11-30T22:53:14.819596Z",
     "iopub.status.busy": "2020-11-30T22:53:14.818835Z",
     "iopub.status.idle": "2020-11-30T22:53:14.822805Z",
     "shell.execute_reply": "2020-11-30T22:53:14.822273Z"
    },
    "papermill": {
     "duration": 0.025582,
     "end_time": "2020-11-30T22:53:14.822900",
     "exception": false,
     "start_time": "2020-11-30T22:53:14.797318",
     "status": "completed"
    },
    "tags": []
   },
   "outputs": [],
   "source": [
    "from keras.callbacks import ModelCheckpoint, EarlyStopping\n",
    "filepath = ('./rottenvsfresh_cucumber_multi.h5')\n",
    "earlyStopping = EarlyStopping(monitor='val_loss', verbose=0, mode='min', patience = 6)\n",
    "mcp_save = ModelCheckpoint(filepath, save_best_only=True, monitor='val_loss', mode='min')"
   ]
  },
  {
   "cell_type": "code",
   "execution_count": 11,
   "metadata": {
    "execution": {
     "iopub.execute_input": "2020-11-30T22:53:14.861980Z",
     "iopub.status.busy": "2020-11-30T22:53:14.861396Z",
     "iopub.status.idle": "2020-11-30T23:05:42.133100Z",
     "shell.execute_reply": "2020-11-30T23:05:42.131981Z"
    },
    "papermill": {
     "duration": 747.293399,
     "end_time": "2020-11-30T23:05:42.133258",
     "exception": false,
     "start_time": "2020-11-30T22:53:14.839859",
     "status": "completed"
    },
    "tags": []
   },
   "outputs": [
    {
     "name": "stdout",
     "output_type": "stream",
     "text": [
      "Epoch 1/50\n",
      "27/27 [==============================] - 29s 1s/step - loss: 0.9544 - accuracy: 0.5401 - val_loss: 0.8465 - val_accuracy: 0.5521\n",
      "Epoch 2/50\n",
      "27/27 [==============================] - 32s 1s/step - loss: 0.8461 - accuracy: 0.5708 - val_loss: 0.8610 - val_accuracy: 0.5417\n",
      "Epoch 3/50\n",
      "27/27 [==============================] - 35s 1s/step - loss: 0.8319 - accuracy: 0.5542 - val_loss: 0.8352 - val_accuracy: 0.5521\n",
      "Epoch 4/50\n",
      "27/27 [==============================] - 37s 1s/step - loss: 0.8290 - accuracy: 0.5825 - val_loss: 0.8011 - val_accuracy: 0.5521\n",
      "Epoch 5/50\n",
      "27/27 [==============================] - 31s 1s/step - loss: 0.7024 - accuracy: 0.7158 - val_loss: 0.3917 - val_accuracy: 0.9375\n",
      "Epoch 6/50\n",
      "27/27 [==============================] - 38s 1s/step - loss: 0.3657 - accuracy: 0.8974 - val_loss: 0.1987 - val_accuracy: 0.9479\n",
      "Epoch 7/50\n",
      "27/27 [==============================] - 35s 1s/step - loss: 0.2173 - accuracy: 0.9340 - val_loss: 0.1812 - val_accuracy: 0.9479\n",
      "Epoch 8/50\n",
      "27/27 [==============================] - 29s 1s/step - loss: 0.1995 - accuracy: 0.9410 - val_loss: 0.1873 - val_accuracy: 0.9479\n",
      "Epoch 9/50\n",
      "27/27 [==============================] - 34s 1s/step - loss: 0.2040 - accuracy: 0.9387 - val_loss: 0.1421 - val_accuracy: 0.9479\n",
      "Epoch 10/50\n",
      "27/27 [==============================] - 35s 1s/step - loss: 0.1799 - accuracy: 0.9363 - val_loss: 0.1393 - val_accuracy: 0.9479\n",
      "Epoch 11/50\n",
      "27/27 [==============================] - 32s 1s/step - loss: 0.1924 - accuracy: 0.9375 - val_loss: 0.1358 - val_accuracy: 0.9479\n",
      "Epoch 12/50\n",
      "27/27 [==============================] - 29s 1s/step - loss: 0.1904 - accuracy: 0.9351 - val_loss: 0.1560 - val_accuracy: 0.9479\n",
      "Epoch 13/50\n",
      "27/27 [==============================] - 33s 1s/step - loss: 0.1655 - accuracy: 0.9410 - val_loss: 0.1147 - val_accuracy: 0.9583\n",
      "Epoch 14/50\n",
      "27/27 [==============================] - 31s 1s/step - loss: 0.1634 - accuracy: 0.9434 - val_loss: 0.1257 - val_accuracy: 0.9479\n",
      "Epoch 15/50\n",
      "27/27 [==============================] - 29s 1s/step - loss: 0.1620 - accuracy: 0.9422 - val_loss: 0.1306 - val_accuracy: 0.9479\n",
      "Epoch 16/50\n",
      "27/27 [==============================] - 29s 1s/step - loss: 0.1865 - accuracy: 0.9375 - val_loss: 0.1336 - val_accuracy: 0.9479\n",
      "Epoch 17/50\n",
      "27/27 [==============================] - 31s 1s/step - loss: 0.1800 - accuracy: 0.9446 - val_loss: 0.1369 - val_accuracy: 0.9479\n",
      "Epoch 18/50\n",
      "27/27 [==============================] - 28s 1s/step - loss: 0.1654 - accuracy: 0.9410 - val_loss: 0.1370 - val_accuracy: 0.9479\n",
      "Epoch 19/50\n",
      "27/27 [==============================] - 28s 1s/step - loss: 0.1673 - accuracy: 0.9410 - val_loss: 0.1225 - val_accuracy: 0.9479\n"
     ]
    }
   ],
   "source": [
    "\n",
    "history = model.fit_generator(generator=train_generator,validation_data=validation_generator,\n",
    "use_multiprocessing=True,\n",
    "workers=6,\n",
    "steps_per_epoch=train_generator.n//train_generator.batch_size,\n",
    "epochs = 50,\n",
    "validation_steps=validation_generator.n//validation_generator.batch_size,\n",
    "callbacks=[earlyStopping, mcp_save])\n",
    "\n",
    "\n"
   ]
  },
  {
   "cell_type": "code",
   "execution_count": 12,
   "metadata": {
    "execution": {
     "iopub.execute_input": "2020-11-30T23:05:42.596131Z",
     "iopub.status.busy": "2020-11-30T23:05:42.593376Z",
     "iopub.status.idle": "2020-11-30T23:05:42.937462Z",
     "shell.execute_reply": "2020-11-30T23:05:42.937976Z"
    },
    "papermill": {
     "duration": 0.556238,
     "end_time": "2020-11-30T23:05:42.938107",
     "exception": false,
     "start_time": "2020-11-30T23:05:42.381869",
     "status": "completed"
    },
    "tags": []
   },
   "outputs": [
    {
     "data": {
      "image/png": "[encoded data removed]",
      "text/plain": [
       "<Figure size 432x288 with 1 Axes>"
      ]
     },
     "metadata": {
      "needs_background": "light"
     },
     "output_type": "display_data"
    },
    {
     "data": {
      "image/png": "[encoded data removed]",
      "text/plain": [
       "<Figure size 432x288 with 1 Axes>"
      ]
     },
     "metadata": {
      "needs_background": "light"
     },
     "output_type": "display_data"
    }
   ],
   "source": [
    "import matplotlib.pyplot as plt\n",
    "\n",
    "plt.plot(history.epoch,history.history['val_accuracy'],'-b',label='Validation Accuracy')\n",
    "plt.plot(history.epoch,history.history['accuracy'],'-g',label='Training Accuracy')\n",
    "\n",
    "plt.title('Training and Validation Accuracy')\n",
    "plt.xlabel('Epochs')\n",
    "plt.ylabel('Accuracy')\n",
    "plt.legend()\n",
    "plt.show()\n",
    "\n",
    "# print(history.history['va'])\n",
    "loss_train = history.history['loss']\n",
    "loss_val = history.history['val_loss']\n",
    "epochs = history.epoch\n",
    "plt.plot(epochs, loss_train, 'g', label='Training loss')\n",
    "plt.plot(epochs, loss_val, 'b', label='validation loss')\n",
    "plt.title('Training and Validation loss')\n",
    "plt.xlabel('Epochs')\n",
    "plt.ylabel('Loss')\n",
    "plt.legend()\n",
    "plt.show()"
   ]
  },
  {
   "cell_type": "code",
   "execution_count": 13,
   "metadata": {
    "execution": {
     "iopub.execute_input": "2020-11-30T23:05:43.380087Z",
     "iopub.status.busy": "2020-11-30T23:05:43.360633Z",
     "iopub.status.idle": "2020-11-30T23:05:44.150646Z",
     "shell.execute_reply": "2020-11-30T23:05:44.149511Z"
    },
    "papermill": {
     "duration": 1.009285,
     "end_time": "2020-11-30T23:05:44.150770",
     "exception": false,
     "start_time": "2020-11-30T23:05:43.141485",
     "status": "completed"
    },
    "tags": []
   },
   "outputs": [],
   "source": [
    "model.load_weights(\"./rottenvsfresh_cucumber_multi.h5\")"
   ]
  },
  {
   "cell_type": "code",
   "execution_count": 14,
   "metadata": {
    "execution": {
     "iopub.execute_input": "2020-11-30T23:05:44.561632Z",
     "iopub.status.busy": "2020-11-30T23:05:44.560261Z",
     "iopub.status.idle": "2020-11-30T23:05:49.035856Z",
     "shell.execute_reply": "2020-11-30T23:05:49.035364Z"
    },
    "papermill": {
     "duration": 4.682799,
     "end_time": "2020-11-30T23:05:49.036022",
     "exception": false,
     "start_time": "2020-11-30T23:05:44.353223",
     "status": "completed"
    },
    "tags": []
   },
   "outputs": [
    {
     "data": {
      "text/plain": [
       "[0.13115228712558746, 0.9479166865348816]"
      ]
     },
     "execution_count": 14,
     "metadata": {},
     "output_type": "execute_result"
    }
   ],
   "source": [
    "model.evaluate_generator(generator=validation_generator,\n",
    "steps=validation_generator.n//validation_generator.batch_size)"
   ]
  },
  {
   "cell_type": "code",
   "execution_count": 15,
   "metadata": {
    "execution": {
     "iopub.execute_input": "2020-11-30T23:05:49.453684Z",
     "iopub.status.busy": "2020-11-30T23:05:49.453063Z",
     "iopub.status.idle": "2020-11-30T23:06:04.194965Z",
     "shell.execute_reply": "2020-11-30T23:06:04.194314Z"
    },
    "papermill": {
     "duration": 14.956587,
     "end_time": "2020-11-30T23:06:04.195089",
     "exception": false,
     "start_time": "2020-11-30T23:05:49.238502",
     "status": "completed"
    },
    "tags": []
   },
   "outputs": [
    {
     "name": "stdout",
     "output_type": "stream",
     "text": [
      "Found 419 images belonging to 3 classes.\n",
      "419\n",
      "419/419 [==============================] - 14s 34ms/step - loss: 0.1818 - accuracy: 0.9332\n"
     ]
    }
   ],
   "source": [
    "testing_generator = test_datagen.flow_from_directory(\n",
    "    '../input/cucumber-multi/Cucumber/test',\n",
    "    target_size=(224, 224),\n",
    "    batch_size= 1,\n",
    "    class_mode='categorical',\n",
    "    shuffle=False)\n",
    "STEP_SIZE_TEST=testing_generator.n\n",
    "print(STEP_SIZE_TEST)\n",
    "# valid_generator.reset()\n",
    "pred=model.evaluate_generator(testing_generator,\n",
    "steps=STEP_SIZE_TEST,\n",
    "verbose=1)"
   ]
  },
  {
   "cell_type": "code",
   "execution_count": 16,
   "metadata": {
    "execution": {
     "iopub.execute_input": "2020-11-30T23:06:04.686252Z",
     "iopub.status.busy": "2020-11-30T23:06:04.685304Z",
     "iopub.status.idle": "2020-11-30T23:06:04.687956Z",
     "shell.execute_reply": "2020-11-30T23:06:04.687356Z"
    },
    "papermill": {
     "duration": 0.249075,
     "end_time": "2020-11-30T23:06:04.688055",
     "exception": false,
     "start_time": "2020-11-30T23:06:04.438980",
     "status": "completed"
    },
    "tags": []
   },
   "outputs": [],
   "source": [
    "# orignal_labels=testing_generator.labels"
   ]
  },
  {
   "cell_type": "code",
   "execution_count": 17,
   "metadata": {
    "execution": {
     "iopub.execute_input": "2020-11-30T23:06:05.185249Z",
     "iopub.status.busy": "2020-11-30T23:06:05.184389Z",
     "iopub.status.idle": "2020-11-30T23:06:05.187122Z",
     "shell.execute_reply": "2020-11-30T23:06:05.186640Z"
    },
    "papermill": {
     "duration": 0.249263,
     "end_time": "2020-11-30T23:06:05.187238",
     "exception": false,
     "start_time": "2020-11-30T23:06:04.937975",
     "status": "completed"
    },
    "tags": []
   },
   "outputs": [],
   "source": [
    "# # #print(np.sum(orignal_labels))\n",
    "# for i in range(len(pred)):\n",
    "#     if pred[i]>0.5:\n",
    "#         pred[i]=1\n",
    "#     else:\n",
    "#         pred[i]=0"
   ]
  },
  {
   "cell_type": "code",
   "execution_count": 18,
   "metadata": {
    "execution": {
     "iopub.execute_input": "2020-11-30T23:06:05.712713Z",
     "iopub.status.busy": "2020-11-30T23:06:05.712091Z",
     "iopub.status.idle": "2020-11-30T23:06:05.716587Z",
     "shell.execute_reply": "2020-11-30T23:06:05.716102Z"
    },
    "papermill": {
     "duration": 0.286342,
     "end_time": "2020-11-30T23:06:05.716685",
     "exception": false,
     "start_time": "2020-11-30T23:06:05.430343",
     "status": "completed"
    },
    "tags": []
   },
   "outputs": [],
   "source": [
    "# pred=pred[:,0]"
   ]
  },
  {
   "cell_type": "code",
   "execution_count": 19,
   "metadata": {
    "execution": {
     "iopub.execute_input": "2020-11-30T23:06:06.208846Z",
     "iopub.status.busy": "2020-11-30T23:06:06.207961Z",
     "iopub.status.idle": "2020-11-30T23:06:06.210314Z",
     "shell.execute_reply": "2020-11-30T23:06:06.210738Z"
    },
    "papermill": {
     "duration": 0.250763,
     "end_time": "2020-11-30T23:06:06.210855",
     "exception": false,
     "start_time": "2020-11-30T23:06:05.960092",
     "status": "completed"
    },
    "tags": []
   },
   "outputs": [],
   "source": [
    "# # predicted_class_indices=np.argmax(pred,axis=1)\n",
    "# # print(predicted_class_indices)\n",
    "\n",
    "# labels = (testing_generator.class_indices)\n",
    "\n",
    "# labels = dict((v,k) for k,v in labels.items())\n",
    "\n",
    "# predictions = [labels[k] for k in list(pred)]\n",
    "\n",
    "# #print(predictions)\n",
    "# filenames=testing_generator.filenames\n",
    "# results=pd.DataFrame({\"Filename\":filenames,\n",
    "#                       \"Predictions\":predictions})\n",
    "\n",
    "# print(results)"
   ]
  },
  {
   "cell_type": "code",
   "execution_count": 20,
   "metadata": {
    "execution": {
     "iopub.execute_input": "2020-11-30T23:06:06.701734Z",
     "iopub.status.busy": "2020-11-30T23:06:06.700038Z",
     "iopub.status.idle": "2020-11-30T23:06:06.702476Z",
     "shell.execute_reply": "2020-11-30T23:06:06.702973Z"
    },
    "papermill": {
     "duration": 0.248655,
     "end_time": "2020-11-30T23:06:06.703087",
     "exception": false,
     "start_time": "2020-11-30T23:06:06.454432",
     "status": "completed"
    },
    "tags": []
   },
   "outputs": [],
   "source": [
    "# acc=np.sum(np.array(orignal_labels)==np.array(pred))"
   ]
  },
  {
   "cell_type": "code",
   "execution_count": 21,
   "metadata": {
    "execution": {
     "iopub.execute_input": "2020-11-30T23:06:07.193301Z",
     "iopub.status.busy": "2020-11-30T23:06:07.191413Z",
     "iopub.status.idle": "2020-11-30T23:06:07.194018Z",
     "shell.execute_reply": "2020-11-30T23:06:07.194483Z"
    },
    "papermill": {
     "duration": 0.250575,
     "end_time": "2020-11-30T23:06:07.194592",
     "exception": false,
     "start_time": "2020-11-30T23:06:06.944017",
     "status": "completed"
    },
    "tags": []
   },
   "outputs": [],
   "source": [
    "# print(acc/len(orignal_labels))"
   ]
  },
  {
   "cell_type": "code",
   "execution_count": null,
   "metadata": {
    "papermill": {
     "duration": 0.374968,
     "end_time": "2020-11-30T23:06:07.812595",
     "exception": false,
     "start_time": "2020-11-30T23:06:07.437627",
     "status": "completed"
    },
    "tags": []
   },
   "outputs": [],
   "source": []
  }
 ],
 "metadata": {
  "kernelspec": {
   "display_name": "Python 3",
   "language": "python",
   "name": "python3"
  },
  "language_info": {
   "codemirror_mode": {
    "name": "ipython",
    "version": 3
   },
   "file_extension": ".py",
   "mimetype": "text/x-python",
   "name": "python",
   "nbconvert_exporter": "python",
   "pygments_lexer": "ipython3",
   "version": "3.7.6"
  },
  "papermill": {
   "duration": 788.324212,
   "end_time": "2020-11-30T23:06:09.399170",
   "environment_variables": {},
   "exception": null,
   "input_path": "__notebook__.ipynb",
   "output_path": "__notebook__.ipynb",
   "parameters": {},
   "start_time": "2020-11-30T22:53:01.074958",
   "version": "2.1.0"
  }
 },
 "nbformat": 4,
 "nbformat_minor": 4
}
